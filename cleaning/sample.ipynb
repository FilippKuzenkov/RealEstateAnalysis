{
 "cells": [
  {
   "cell_type": "markdown",
   "id": "8a77807f92f26ee",
   "metadata": {},
   "source": [
    "# This is a sample Jupyter Notebook\n",
    "\n",
    "Below is an example of a code cell. \n",
    "Put your cursor into the cell and press Shift+Enter to execute it and select the next one, or click 'Run Cell' button.\n",
    "\n",
    "Press Double Shift to search everywhere for classes, files, tool windows, actions, and settings.\n",
    "\n",
    "To learn more about Jupyter Notebooks in PyCharm, see [help](https://www.jetbrains.com/help/pycharm/ipython-notebook-support.html).\n",
    "For an overview of PyCharm, go to Help -> Learn IDE features or refer to [our documentation](https://www.jetbrains.com/help/pycharm/getting-started.html)."
   ]
  },
  {
   "cell_type": "code",
   "execution_count": 1,
   "id": "fbc121e30a2defb3",
   "metadata": {
    "ExecuteTime": {
     "end_time": "2025-06-12T11:07:19.798394Z",
     "start_time": "2025-06-12T11:07:12.559422Z"
    }
   },
   "outputs": [
    {
     "name": "stdout",
     "output_type": "stream",
     "text": [
      "<class 'pandas.core.frame.DataFrame'>\n",
      "RangeIndex: 268850 entries, 0 to 268849\n",
      "Data columns (total 49 columns):\n",
      " #   Column                    Non-Null Count   Dtype  \n",
      "---  ------                    --------------   -----  \n",
      " 0   regio1                    268850 non-null  object \n",
      " 1   serviceCharge             261941 non-null  float64\n",
      " 2   heatingType               223994 non-null  object \n",
      " 3   telekomTvOffer            236231 non-null  object \n",
      " 4   telekomHybridUploadSpeed  45020 non-null   float64\n",
      " 5   newlyConst                268850 non-null  bool   \n",
      " 6   balcony                   268850 non-null  bool   \n",
      " 7   picturecount              268850 non-null  int64  \n",
      " 8   pricetrend                267018 non-null  float64\n",
      " 9   telekomUploadSpeed        235492 non-null  float64\n",
      " 10  totalRent                 228333 non-null  float64\n",
      " 11  yearConstructed           211805 non-null  float64\n",
      " 12  scoutId                   268850 non-null  int64  \n",
      " 13  noParkSpaces              93052 non-null   float64\n",
      " 14  firingTypes               211886 non-null  object \n",
      " 15  hasKitchen                268850 non-null  bool   \n",
      " 16  geo_bln                   268850 non-null  object \n",
      " 17  cellar                    268850 non-null  bool   \n",
      " 18  yearConstructedRange      211805 non-null  float64\n",
      " 19  baseRent                  268850 non-null  float64\n",
      " 20  houseNumber               197832 non-null  object \n",
      " 21  livingSpace               268850 non-null  float64\n",
      " 22  geo_krs                   268850 non-null  object \n",
      " 23  condition                 200361 non-null  object \n",
      " 24  interiorQual              156185 non-null  object \n",
      " 25  petsAllowed               154277 non-null  object \n",
      " 26  street                    268850 non-null  object \n",
      " 27  streetPlain               197837 non-null  object \n",
      " 28  lift                      268850 non-null  bool   \n",
      " 29  baseRentRange             268850 non-null  int64  \n",
      " 30  typeOfFlat                232236 non-null  object \n",
      " 31  geo_plz                   268850 non-null  int64  \n",
      " 32  noRooms                   268850 non-null  float64\n",
      " 33  thermalChar               162344 non-null  float64\n",
      " 34  floor                     217541 non-null  float64\n",
      " 35  numberOfFloors            171118 non-null  float64\n",
      " 36  noRoomsRange              268850 non-null  int64  \n",
      " 37  garden                    268850 non-null  bool   \n",
      " 38  livingSpaceRange          268850 non-null  int64  \n",
      " 39  regio2                    268850 non-null  object \n",
      " 40  regio3                    268850 non-null  object \n",
      " 41  description               249103 non-null  object \n",
      " 42  facilities                215926 non-null  object \n",
      " 43  heatingCosts              85518 non-null   float64\n",
      " 44  energyEfficiencyClass     77787 non-null   object \n",
      " 45  lastRefurbish             80711 non-null   float64\n",
      " 46  electricityBasePrice      46846 non-null   float64\n",
      " 47  electricityKwhPrice       46846 non-null   float64\n",
      " 48  date                      268850 non-null  object \n",
      "dtypes: bool(6), float64(18), int64(6), object(19)\n",
      "memory usage: 89.7+ MB\n"
     ]
    }
   ],
   "source": [
    "import pandas as pd\n",
    "dataset = pd.read_csv(\"data.csv\");\n",
    "dataset.info(\"data.csv\");\n"
   ]
  },
  {
   "cell_type": "code",
   "execution_count": 2,
   "id": "9d0a77154c224da0",
   "metadata": {
    "ExecuteTime": {
     "end_time": "2025-06-12T11:07:20.413713Z",
     "start_time": "2025-06-12T11:07:19.942158Z"
    }
   },
   "outputs": [
    {
     "data": {
      "text/html": [
       "<div>\n",
       "<style scoped>\n",
       "    .dataframe tbody tr th:only-of-type {\n",
       "        vertical-align: middle;\n",
       "    }\n",
       "\n",
       "    .dataframe tbody tr th {\n",
       "        vertical-align: top;\n",
       "    }\n",
       "\n",
       "    .dataframe thead th {\n",
       "        text-align: right;\n",
       "    }\n",
       "</style>\n",
       "<table border=\"1\" class=\"dataframe\">\n",
       "  <thead>\n",
       "    <tr style=\"text-align: right;\">\n",
       "      <th></th>\n",
       "      <th>serviceCharge</th>\n",
       "      <th>telekomHybridUploadSpeed</th>\n",
       "      <th>picturecount</th>\n",
       "      <th>pricetrend</th>\n",
       "      <th>telekomUploadSpeed</th>\n",
       "      <th>totalRent</th>\n",
       "      <th>yearConstructed</th>\n",
       "      <th>scoutId</th>\n",
       "      <th>noParkSpaces</th>\n",
       "      <th>yearConstructedRange</th>\n",
       "      <th>...</th>\n",
       "      <th>noRooms</th>\n",
       "      <th>thermalChar</th>\n",
       "      <th>floor</th>\n",
       "      <th>numberOfFloors</th>\n",
       "      <th>noRoomsRange</th>\n",
       "      <th>livingSpaceRange</th>\n",
       "      <th>heatingCosts</th>\n",
       "      <th>lastRefurbish</th>\n",
       "      <th>electricityBasePrice</th>\n",
       "      <th>electricityKwhPrice</th>\n",
       "    </tr>\n",
       "  </thead>\n",
       "  <tbody>\n",
       "    <tr>\n",
       "      <th>count</th>\n",
       "      <td>261941.000000</td>\n",
       "      <td>45020.0</td>\n",
       "      <td>268850.000000</td>\n",
       "      <td>267018.000000</td>\n",
       "      <td>235492.000000</td>\n",
       "      <td>2.283330e+05</td>\n",
       "      <td>211805.000000</td>\n",
       "      <td>2.688500e+05</td>\n",
       "      <td>93052.000000</td>\n",
       "      <td>211805.000000</td>\n",
       "      <td>...</td>\n",
       "      <td>268850.000000</td>\n",
       "      <td>162344.000000</td>\n",
       "      <td>217541.000000</td>\n",
       "      <td>171118.000000</td>\n",
       "      <td>268850.000000</td>\n",
       "      <td>268850.000000</td>\n",
       "      <td>85518.000000</td>\n",
       "      <td>80711.000000</td>\n",
       "      <td>46846.000000</td>\n",
       "      <td>46846.000000</td>\n",
       "    </tr>\n",
       "    <tr>\n",
       "      <th>mean</th>\n",
       "      <td>151.206113</td>\n",
       "      <td>10.0</td>\n",
       "      <td>9.791958</td>\n",
       "      <td>3.389001</td>\n",
       "      <td>28.804928</td>\n",
       "      <td>9.013315e+02</td>\n",
       "      <td>1966.400590</td>\n",
       "      <td>1.069697e+08</td>\n",
       "      <td>1.327634</td>\n",
       "      <td>3.714544</td>\n",
       "      <td>...</td>\n",
       "      <td>2.641261</td>\n",
       "      <td>114.749533</td>\n",
       "      <td>2.122405</td>\n",
       "      <td>3.572319</td>\n",
       "      <td>2.571542</td>\n",
       "      <td>3.070790</td>\n",
       "      <td>76.990866</td>\n",
       "      <td>2013.904536</td>\n",
       "      <td>89.113612</td>\n",
       "      <td>0.199769</td>\n",
       "    </tr>\n",
       "    <tr>\n",
       "      <th>std</th>\n",
       "      <td>308.295790</td>\n",
       "      <td>0.0</td>\n",
       "      <td>6.408399</td>\n",
       "      <td>1.964874</td>\n",
       "      <td>16.337151</td>\n",
       "      <td>3.323833e+04</td>\n",
       "      <td>46.992207</td>\n",
       "      <td>1.250093e+07</td>\n",
       "      <td>8.361403</td>\n",
       "      <td>2.738134</td>\n",
       "      <td>...</td>\n",
       "      <td>2.633440</td>\n",
       "      <td>61.653663</td>\n",
       "      <td>3.634934</td>\n",
       "      <td>6.375496</td>\n",
       "      <td>0.937594</td>\n",
       "      <td>1.407127</td>\n",
       "      <td>147.716278</td>\n",
       "      <td>10.963125</td>\n",
       "      <td>5.395805</td>\n",
       "      <td>0.009667</td>\n",
       "    </tr>\n",
       "    <tr>\n",
       "      <th>min</th>\n",
       "      <td>0.000000</td>\n",
       "      <td>10.0</td>\n",
       "      <td>0.000000</td>\n",
       "      <td>-12.330000</td>\n",
       "      <td>1.000000</td>\n",
       "      <td>0.000000e+00</td>\n",
       "      <td>1000.000000</td>\n",
       "      <td>2.887174e+07</td>\n",
       "      <td>0.000000</td>\n",
       "      <td>1.000000</td>\n",
       "      <td>...</td>\n",
       "      <td>1.000000</td>\n",
       "      <td>0.100000</td>\n",
       "      <td>-1.000000</td>\n",
       "      <td>0.000000</td>\n",
       "      <td>1.000000</td>\n",
       "      <td>1.000000</td>\n",
       "      <td>0.000000</td>\n",
       "      <td>1015.000000</td>\n",
       "      <td>71.430000</td>\n",
       "      <td>0.170500</td>\n",
       "    </tr>\n",
       "    <tr>\n",
       "      <th>25%</th>\n",
       "      <td>95.000000</td>\n",
       "      <td>10.0</td>\n",
       "      <td>6.000000</td>\n",
       "      <td>2.000000</td>\n",
       "      <td>10.000000</td>\n",
       "      <td>4.698000e+02</td>\n",
       "      <td>1950.000000</td>\n",
       "      <td>1.066910e+08</td>\n",
       "      <td>1.000000</td>\n",
       "      <td>1.000000</td>\n",
       "      <td>...</td>\n",
       "      <td>2.000000</td>\n",
       "      <td>79.000000</td>\n",
       "      <td>1.000000</td>\n",
       "      <td>2.000000</td>\n",
       "      <td>2.000000</td>\n",
       "      <td>2.000000</td>\n",
       "      <td>54.000000</td>\n",
       "      <td>2012.000000</td>\n",
       "      <td>90.760000</td>\n",
       "      <td>0.191500</td>\n",
       "    </tr>\n",
       "    <tr>\n",
       "      <th>50%</th>\n",
       "      <td>135.000000</td>\n",
       "      <td>10.0</td>\n",
       "      <td>9.000000</td>\n",
       "      <td>3.390000</td>\n",
       "      <td>40.000000</td>\n",
       "      <td>6.500000e+02</td>\n",
       "      <td>1973.000000</td>\n",
       "      <td>1.111584e+08</td>\n",
       "      <td>1.000000</td>\n",
       "      <td>3.000000</td>\n",
       "      <td>...</td>\n",
       "      <td>3.000000</td>\n",
       "      <td>107.000000</td>\n",
       "      <td>2.000000</td>\n",
       "      <td>3.000000</td>\n",
       "      <td>3.000000</td>\n",
       "      <td>3.000000</td>\n",
       "      <td>70.000000</td>\n",
       "      <td>2017.000000</td>\n",
       "      <td>90.760000</td>\n",
       "      <td>0.198500</td>\n",
       "    </tr>\n",
       "    <tr>\n",
       "      <th>75%</th>\n",
       "      <td>190.000000</td>\n",
       "      <td>10.0</td>\n",
       "      <td>13.000000</td>\n",
       "      <td>4.570000</td>\n",
       "      <td>40.000000</td>\n",
       "      <td>9.850000e+02</td>\n",
       "      <td>1996.000000</td>\n",
       "      <td>1.137688e+08</td>\n",
       "      <td>1.000000</td>\n",
       "      <td>5.000000</td>\n",
       "      <td>...</td>\n",
       "      <td>3.000000</td>\n",
       "      <td>140.300000</td>\n",
       "      <td>3.000000</td>\n",
       "      <td>4.000000</td>\n",
       "      <td>3.000000</td>\n",
       "      <td>4.000000</td>\n",
       "      <td>90.000000</td>\n",
       "      <td>2019.000000</td>\n",
       "      <td>90.760000</td>\n",
       "      <td>0.205500</td>\n",
       "    </tr>\n",
       "    <tr>\n",
       "      <th>max</th>\n",
       "      <td>146118.000000</td>\n",
       "      <td>10.0</td>\n",
       "      <td>121.000000</td>\n",
       "      <td>14.920000</td>\n",
       "      <td>100.000000</td>\n",
       "      <td>1.575154e+07</td>\n",
       "      <td>2090.000000</td>\n",
       "      <td>1.157117e+08</td>\n",
       "      <td>2241.000000</td>\n",
       "      <td>9.000000</td>\n",
       "      <td>...</td>\n",
       "      <td>999.990000</td>\n",
       "      <td>1996.000000</td>\n",
       "      <td>999.000000</td>\n",
       "      <td>999.000000</td>\n",
       "      <td>5.000000</td>\n",
       "      <td>7.000000</td>\n",
       "      <td>12613.000000</td>\n",
       "      <td>2919.000000</td>\n",
       "      <td>90.760000</td>\n",
       "      <td>0.227600</td>\n",
       "    </tr>\n",
       "  </tbody>\n",
       "</table>\n",
       "<p>8 rows × 24 columns</p>\n",
       "</div>"
      ],
      "text/plain": [
       "       serviceCharge  telekomHybridUploadSpeed   picturecount     pricetrend  \\\n",
       "count  261941.000000                   45020.0  268850.000000  267018.000000   \n",
       "mean      151.206113                      10.0       9.791958       3.389001   \n",
       "std       308.295790                       0.0       6.408399       1.964874   \n",
       "min         0.000000                      10.0       0.000000     -12.330000   \n",
       "25%        95.000000                      10.0       6.000000       2.000000   \n",
       "50%       135.000000                      10.0       9.000000       3.390000   \n",
       "75%       190.000000                      10.0      13.000000       4.570000   \n",
       "max    146118.000000                      10.0     121.000000      14.920000   \n",
       "\n",
       "       telekomUploadSpeed     totalRent  yearConstructed       scoutId  \\\n",
       "count       235492.000000  2.283330e+05    211805.000000  2.688500e+05   \n",
       "mean            28.804928  9.013315e+02      1966.400590  1.069697e+08   \n",
       "std             16.337151  3.323833e+04        46.992207  1.250093e+07   \n",
       "min              1.000000  0.000000e+00      1000.000000  2.887174e+07   \n",
       "25%             10.000000  4.698000e+02      1950.000000  1.066910e+08   \n",
       "50%             40.000000  6.500000e+02      1973.000000  1.111584e+08   \n",
       "75%             40.000000  9.850000e+02      1996.000000  1.137688e+08   \n",
       "max            100.000000  1.575154e+07      2090.000000  1.157117e+08   \n",
       "\n",
       "       noParkSpaces  yearConstructedRange  ...        noRooms    thermalChar  \\\n",
       "count  93052.000000         211805.000000  ...  268850.000000  162344.000000   \n",
       "mean       1.327634              3.714544  ...       2.641261     114.749533   \n",
       "std        8.361403              2.738134  ...       2.633440      61.653663   \n",
       "min        0.000000              1.000000  ...       1.000000       0.100000   \n",
       "25%        1.000000              1.000000  ...       2.000000      79.000000   \n",
       "50%        1.000000              3.000000  ...       3.000000     107.000000   \n",
       "75%        1.000000              5.000000  ...       3.000000     140.300000   \n",
       "max     2241.000000              9.000000  ...     999.990000    1996.000000   \n",
       "\n",
       "               floor  numberOfFloors   noRoomsRange  livingSpaceRange  \\\n",
       "count  217541.000000   171118.000000  268850.000000     268850.000000   \n",
       "mean        2.122405        3.572319       2.571542          3.070790   \n",
       "std         3.634934        6.375496       0.937594          1.407127   \n",
       "min        -1.000000        0.000000       1.000000          1.000000   \n",
       "25%         1.000000        2.000000       2.000000          2.000000   \n",
       "50%         2.000000        3.000000       3.000000          3.000000   \n",
       "75%         3.000000        4.000000       3.000000          4.000000   \n",
       "max       999.000000      999.000000       5.000000          7.000000   \n",
       "\n",
       "       heatingCosts  lastRefurbish  electricityBasePrice  electricityKwhPrice  \n",
       "count  85518.000000   80711.000000          46846.000000         46846.000000  \n",
       "mean      76.990866    2013.904536             89.113612             0.199769  \n",
       "std      147.716278      10.963125              5.395805             0.009667  \n",
       "min        0.000000    1015.000000             71.430000             0.170500  \n",
       "25%       54.000000    2012.000000             90.760000             0.191500  \n",
       "50%       70.000000    2017.000000             90.760000             0.198500  \n",
       "75%       90.000000    2019.000000             90.760000             0.205500  \n",
       "max    12613.000000    2919.000000             90.760000             0.227600  \n",
       "\n",
       "[8 rows x 24 columns]"
      ]
     },
     "execution_count": 2,
     "metadata": {},
     "output_type": "execute_result"
    }
   ],
   "source": [
    "dataset.describe()"
   ]
  },
  {
   "cell_type": "code",
   "execution_count": 3,
   "id": "780149ca-7ab1-4416-956f-cf4e101dc5d6",
   "metadata": {
    "ExecuteTime": {
     "end_time": "2025-06-12T11:07:21.762607Z",
     "start_time": "2025-06-12T11:07:21.123233Z"
    }
   },
   "outputs": [
    {
     "data": {
      "text/plain": [
       "regio1                          16\n",
       "serviceCharge                12266\n",
       "heatingType                     13\n",
       "telekomTvOffer                   3\n",
       "telekomHybridUploadSpeed         1\n",
       "newlyConst                       2\n",
       "balcony                          2\n",
       "picturecount                    95\n",
       "pricetrend                    1234\n",
       "telekomUploadSpeed               7\n",
       "totalRent                    28486\n",
       "yearConstructed                465\n",
       "scoutId                     268850\n",
       "noParkSpaces                    71\n",
       "firingTypes                    132\n",
       "hasKitchen                       2\n",
       "geo_bln                         16\n",
       "cellar                           2\n",
       "yearConstructedRange             9\n",
       "baseRent                     26659\n",
       "houseNumber                   5510\n",
       "livingSpace                  13005\n",
       "geo_krs                        419\n",
       "condition                       10\n",
       "interiorQual                     4\n",
       "petsAllowed                      3\n",
       "street                       52373\n",
       "streetPlain                  54490\n",
       "lift                             2\n",
       "baseRentRange                    9\n",
       "typeOfFlat                      10\n",
       "geo_plz                       7634\n",
       "noRooms                         64\n",
       "thermalChar                   7847\n",
       "floor                           53\n",
       "numberOfFloors                  57\n",
       "noRoomsRange                     5\n",
       "garden                           2\n",
       "livingSpaceRange                 7\n",
       "regio2                         419\n",
       "regio3                        8684\n",
       "description                 212621\n",
       "facilities                  189526\n",
       "heatingCosts                  5669\n",
       "energyEfficiencyClass           10\n",
       "lastRefurbish                   88\n",
       "electricityBasePrice             2\n",
       "electricityKwhPrice             15\n",
       "date                             4\n",
       "dtype: int64"
      ]
     },
     "execution_count": 3,
     "metadata": {},
     "output_type": "execute_result"
    }
   ],
   "source": [
    "dataset.nunique()\n"
   ]
  },
  {
   "cell_type": "code",
   "execution_count": 4,
   "id": "48ef486a-8569-472d-9336-29bda8a7fc4e",
   "metadata": {
    "ExecuteTime": {
     "end_time": "2025-06-12T11:07:23.314007Z",
     "start_time": "2025-06-12T11:07:21.793468Z"
    }
   },
   "outputs": [
    {
     "data": {
      "text/plain": [
       "0"
      ]
     },
     "execution_count": 4,
     "metadata": {},
     "output_type": "execute_result"
    }
   ],
   "source": [
    "import matplotlib\n",
    "dataset.duplicated().sum()"
   ]
  },
  {
   "cell_type": "code",
   "execution_count": 5,
   "id": "fb9c6f08-f208-44eb-89d4-2711715ba429",
   "metadata": {
    "ExecuteTime": {
     "end_time": "2025-06-12T11:07:23.622067Z",
     "start_time": "2025-06-12T11:07:23.362999Z"
    }
   },
   "outputs": [
    {
     "data": {
      "text/plain": [
       "telekomHybridUploadSpeed    0.832546\n",
       "electricityKwhPrice         0.825754\n",
       "electricityBasePrice        0.825754\n",
       "energyEfficiencyClass       0.710668\n",
       "lastRefurbish               0.699792\n",
       "heatingCosts                0.681912\n",
       "noParkSpaces                0.653889\n",
       "petsAllowed                 0.426160\n",
       "interiorQual                0.419063\n",
       "thermalChar                 0.396154\n",
       "numberOfFloors              0.363519\n",
       "houseNumber                 0.264155\n",
       "streetPlain                 0.264136\n",
       "condition                   0.254748\n",
       "yearConstructed             0.212182\n",
       "yearConstructedRange        0.212182\n",
       "firingTypes                 0.211880\n",
       "facilities                  0.196853\n",
       "floor                       0.190846\n",
       "heatingType                 0.166844\n",
       "totalRent                   0.150705\n",
       "typeOfFlat                  0.136187\n",
       "telekomUploadSpeed          0.124077\n",
       "telekomTvOffer              0.121328\n",
       "description                 0.073450\n",
       "serviceCharge               0.025698\n",
       "pricetrend                  0.006814\n",
       "regio3                      0.000000\n",
       "regio2                      0.000000\n",
       "livingSpaceRange            0.000000\n",
       "garden                      0.000000\n",
       "noRoomsRange                0.000000\n",
       "regio1                      0.000000\n",
       "noRooms                     0.000000\n",
       "geo_plz                     0.000000\n",
       "baseRentRange               0.000000\n",
       "lift                        0.000000\n",
       "street                      0.000000\n",
       "geo_krs                     0.000000\n",
       "livingSpace                 0.000000\n",
       "baseRent                    0.000000\n",
       "cellar                      0.000000\n",
       "geo_bln                     0.000000\n",
       "hasKitchen                  0.000000\n",
       "scoutId                     0.000000\n",
       "picturecount                0.000000\n",
       "balcony                     0.000000\n",
       "newlyConst                  0.000000\n",
       "date                        0.000000\n",
       "dtype: float64"
      ]
     },
     "execution_count": 5,
     "metadata": {},
     "output_type": "execute_result"
    }
   ],
   "source": [
    "dataset.isnull().mean().sort_values(ascending=False)\n",
    "# shows percentage amount of missing values (from 0 to 1)\n",
    "# logic: less than 5% missing - impute or drop, 5 to 30% missing - impute with domain logic, using unknown placeholder, drop if only low-level value column\n",
    "# 30-60% - drop or create flags, more than 60% - drop for sure\n",
    "#therefore consider dropping electricityKwhPrice, electricityBasePrice, lastRefurbish, energyEfficiencyClass, heatingCosts, noParkSpaces, telekomHybridUploadSpeed"
   ]
  },
  {
   "cell_type": "code",
   "execution_count": 6,
   "id": "55e018ee-9ab9-4bae-b71b-236d098eacaf",
   "metadata": {
    "ExecuteTime": {
     "end_time": "2025-06-12T11:07:23.773574Z",
     "start_time": "2025-06-12T11:07:23.694020Z"
    }
   },
   "outputs": [],
   "source": [
    "dataset['condition'] = dataset['condition'].str.lower().str.strip()"
   ]
  },
  {
   "cell_type": "code",
   "execution_count": 8,
   "id": "e8d083b0-a790-4994-a3e6-4239dc12ec56",
   "metadata": {
    "ExecuteTime": {
     "end_time": "2025-06-12T11:07:24.926352Z",
     "start_time": "2025-06-12T11:07:24.594724Z"
    }
   },
   "outputs": [
    {
     "name": "stdout",
     "output_type": "stream",
     "text": [
      "<class 'pandas.core.frame.DataFrame'>\n",
      "RangeIndex: 268850 entries, 0 to 268849\n",
      "Data columns (total 42 columns):\n",
      " #   Column                Non-Null Count   Dtype  \n",
      "---  ------                --------------   -----  \n",
      " 0   regio1                268850 non-null  object \n",
      " 1   serviceCharge         261941 non-null  float64\n",
      " 2   heatingType           223994 non-null  object \n",
      " 3   telekomTvOffer        236231 non-null  object \n",
      " 4   newlyConst            268850 non-null  bool   \n",
      " 5   balcony               268850 non-null  bool   \n",
      " 6   picturecount          268850 non-null  int64  \n",
      " 7   pricetrend            267018 non-null  float64\n",
      " 8   telekomUploadSpeed    235492 non-null  float64\n",
      " 9   totalRent             228333 non-null  float64\n",
      " 10  yearConstructed       211805 non-null  float64\n",
      " 11  scoutId               268850 non-null  int64  \n",
      " 12  firingTypes           211886 non-null  object \n",
      " 13  hasKitchen            268850 non-null  bool   \n",
      " 14  geo_bln               268850 non-null  object \n",
      " 15  cellar                268850 non-null  bool   \n",
      " 16  yearConstructedRange  211805 non-null  float64\n",
      " 17  baseRent              268850 non-null  float64\n",
      " 18  houseNumber           197832 non-null  object \n",
      " 19  livingSpace           268850 non-null  float64\n",
      " 20  geo_krs               268850 non-null  object \n",
      " 21  condition             200361 non-null  object \n",
      " 22  interiorQual          156185 non-null  object \n",
      " 23  petsAllowed           154277 non-null  object \n",
      " 24  street                268850 non-null  object \n",
      " 25  streetPlain           197837 non-null  object \n",
      " 26  lift                  268850 non-null  bool   \n",
      " 27  baseRentRange         268850 non-null  int64  \n",
      " 28  typeOfFlat            232236 non-null  object \n",
      " 29  geo_plz               268850 non-null  int64  \n",
      " 30  noRooms               268850 non-null  float64\n",
      " 31  thermalChar           162344 non-null  float64\n",
      " 32  floor                 217541 non-null  float64\n",
      " 33  numberOfFloors        171118 non-null  float64\n",
      " 34  noRoomsRange          268850 non-null  int64  \n",
      " 35  garden                268850 non-null  bool   \n",
      " 36  livingSpaceRange      268850 non-null  int64  \n",
      " 37  regio2                268850 non-null  object \n",
      " 38  regio3                268850 non-null  object \n",
      " 39  facilities            215926 non-null  object \n",
      " 40  date                  268850 non-null  object \n",
      " 41  rent_per_sqm          228328 non-null  float64\n",
      "dtypes: bool(6), float64(13), int64(6), object(17)\n",
      "memory usage: 75.4+ MB\n"
     ]
    }
   ],
   "source": [
    "dataset = dataset.drop(['electricityKwhPrice', 'electricityBasePrice', 'lastRefurbish', 'energyEfficiencyClass', 'heatingCosts', 'noParkSpaces', 'telekomHybridUploadSpeed', 'description'], axis=1)\n",
    "dataset.info()"
   ]
  },
  {
   "cell_type": "code",
   "execution_count": 9,
   "id": "9bbc7e4c-1bbe-4e48-9ab2-06950fbdba69",
   "metadata": {
    "ExecuteTime": {
     "end_time": "2025-06-12T11:07:25.174359Z",
     "start_time": "2025-06-12T11:07:24.954678Z"
    }
   },
   "outputs": [
    {
     "data": {
      "text/plain": [
       "petsAllowed             0.426160\n",
       "interiorQual            0.419063\n",
       "thermalChar             0.396154\n",
       "numberOfFloors          0.363519\n",
       "houseNumber             0.264155\n",
       "streetPlain             0.264136\n",
       "condition               0.254748\n",
       "yearConstructedRange    0.212182\n",
       "yearConstructed         0.212182\n",
       "firingTypes             0.211880\n",
       "facilities              0.196853\n",
       "floor                   0.190846\n",
       "heatingType             0.166844\n",
       "rent_per_sqm            0.150723\n",
       "totalRent               0.150705\n",
       "typeOfFlat              0.136187\n",
       "telekomUploadSpeed      0.124077\n",
       "telekomTvOffer          0.121328\n",
       "serviceCharge           0.025698\n",
       "pricetrend              0.006814\n",
       "noRooms                 0.000000\n",
       "date                    0.000000\n",
       "regio3                  0.000000\n",
       "regio2                  0.000000\n",
       "livingSpaceRange        0.000000\n",
       "garden                  0.000000\n",
       "noRoomsRange            0.000000\n",
       "newlyConst              0.000000\n",
       "balcony                 0.000000\n",
       "picturecount            0.000000\n",
       "geo_bln                 0.000000\n",
       "geo_plz                 0.000000\n",
       "cellar                  0.000000\n",
       "baseRentRange           0.000000\n",
       "lift                    0.000000\n",
       "street                  0.000000\n",
       "geo_krs                 0.000000\n",
       "livingSpace             0.000000\n",
       "scoutId                 0.000000\n",
       "baseRent                0.000000\n",
       "hasKitchen              0.000000\n",
       "regio1                  0.000000\n",
       "dtype: float64"
      ]
     },
     "execution_count": 9,
     "metadata": {},
     "output_type": "execute_result"
    }
   ],
   "source": [
    "dataset.isnull().mean().sort_values(ascending=False)"
   ]
  },
  {
   "cell_type": "code",
   "execution_count": 10,
   "id": "880323ba-b1b1-4f73-a85b-a0b8f8f9d434",
   "metadata": {
    "ExecuteTime": {
     "end_time": "2025-06-12T11:07:25.699641Z",
     "start_time": "2025-06-12T11:07:25.409686Z"
    }
   },
   "outputs": [
    {
     "name": "stdout",
     "output_type": "stream",
     "text": [
      "Renamed NaN to 'unknown' in column: \n",
      "Renamed NaN to 'unknown' in column: \n",
      "Renamed NaN to 'unknown' in column: \n",
      "Renamed NaN to 'unknown' in column: \n",
      "Renamed NaN to 'unknown' in column: \n",
      "Renamed NaN to 'unknown' in column: \n",
      "Renamed NaN to 'unknown' in column: \n",
      "Renamed NaN to 'unknown' in column: \n",
      "Renamed NaN to 'unknown' in column: \n",
      "Renamed NaN to 'unknown' in column: \n",
      "Renamed NaN to 'unknown' in column: \n",
      "Renamed NaN to 'unknown' in column: \n",
      "Renamed NaN to 'unknown' in column: \n",
      "Renamed NaN to 'unknown' in column: \n",
      "Renamed NaN to 'unknown' in column: \n",
      "Renamed NaN to 'unknown' in column: \n",
      "Renamed NaN to 'unknown' in column: \n"
     ]
    }
   ],
   "source": [
    "#Object columns identified for renaming NaN to 'unknown'\n",
    "object_cols_to_rename_nan = [\n",
    "    'regio1', 'heatingType', 'telekomTvOffer', 'firingTypes',\n",
    "    'geo_bln', 'houseNumber', 'geo_krs', 'condition', 'interiorQual',\n",
    "    'petsAllowed', 'street', 'streetPlain', 'typeOfFlat', 'regio2',\n",
    "     'regio3', 'facilities', 'date'# ill include 'date' though likely it is not needed for imputation\n",
    "]\n",
    "\n",
    "for col in object_cols_to_rename_nan:\n",
    "    if col in dataset.columns:\n",
    "        if dataset[col].dtype == 'object':\n",
    "            dataset[col] = dataset[col].fillna('unknown')\n",
    "            print(\"Renamed NaN to 'unknown' in column: \")\n",
    "        else:\n",
    "            print (\"Column  is not of object dtype, skipping NaN rename.\")\n",
    "    else:\n",
    "        print(\"Column  not found in DataFrame.\")\n",
    "\n",
    "if 'description' in dataset.columns:\n",
    "    dataset.drop(columns=['description'], inplace=True)\n",
    "    print(\"Dropped column:  description as it's not required for insights.\")\n",
    "\n",
    "# need to consult variables (condition, interiorQual, petsAllowed, hasKitchen)"
   ]
  },
  {
   "cell_type": "code",
   "execution_count": 12,
   "id": "b56a97fd-3bfa-46b9-b3ea-47e0c1964039",
   "metadata": {
    "ExecuteTime": {
     "end_time": "2025-06-12T11:07:27.726684Z",
     "start_time": "2025-06-12T11:07:27.696622Z"
    }
   },
   "outputs": [
    {
     "name": "stdout",
     "output_type": "stream",
     "text": [
      "Imputed missing values in ''  with median ()\n",
      "Imputed missing values in ''  with median ()\n",
      "Imputed missing values in ''  with median ()\n",
      "Imputed missing values in '' with mean ()\n"
     ]
    }
   ],
   "source": [
    "#Imputation strategies based on potential distribution (will need confirmation)\n",
    "#Median for potentially skewed data (serviceCharge, telekomUploadSpeed, totalRent, yearConstructed, yearConstructedRange, floor)\n",
    "#Mean for potentially normally distributed data (pricetrend)\n",
    "\n",
    "#Median columns\n",
    "median_impute_cols = [\n",
    "    'serviceCharge', 'telekomUploadSpeed', 'totalRent'\n",
    "]\n",
    "\n",
    "for col in median_impute_cols:\n",
    "    if col in dataset.columns:\n",
    "        if dataset[col].isnull().any():\n",
    "            median_val = dataset[col].median()\n",
    "            dataset[col] = dataset[col].fillna(median_val)\n",
    "            print(\"Imputed missing values in ''  with median ()\")\n",
    "    else:\n",
    "        print(\"Column  not  found in DataFrame.\")\n",
    "\n",
    "#Mean columns\n",
    "mean_impute_cols = ['pricetrend']\n",
    "\n",
    "for col in mean_impute_cols:\n",
    "    if col in dataset.columns:\n",
    "        if dataset[col].isnull().any():\n",
    "            mean_val = dataset[col].mean ()\n",
    "            dataset[col] = dataset[col].fillna(mean_val)\n",
    "            print(\"Imputed missing values in '' with mean ()\")\n",
    "    else:\n",
    "        print(\"Column not found in DataFrame.\")"
   ]
  },
  {
   "cell_type": "code",
   "execution_count": 13,
   "id": "aa0549d7-66ca-470d-9313-131bcb125c92",
   "metadata": {
    "ExecuteTime": {
     "end_time": "2025-06-12T11:07:28.013870Z",
     "start_time": "2025-06-12T11:07:27.994320Z"
    }
   },
   "outputs": [
    {
     "name": "stdout",
     "output_type": "stream",
     "text": [
      "Capped serviceCharge outliers.\n",
      "Capped totalRent outliers above 10000€\n"
     ]
    }
   ],
   "source": [
    "# Outlier Handling for service Charge (Example: Capping extreme values at 99%th percentile + margin)\n",
    "if 'serviceCharge' in dataset.columns:\n",
    "    upper_threshold  = dataset['serviceCharge'].quantile(0.99) * 1.1 \n",
    "    initial_outlier_count = dataset[dataset['serviceCharge'] > upper_threshold].shape[0]\n",
    "    dataset['serviceCharge'] = dataset['serviceCharge'].clip(upper=upper_threshold)\n",
    "    print(\"Capped serviceCharge outliers.\")\n",
    "\n",
    "#  Outlier Handling for totalRent\n",
    "if 'totalRent' in dataset.columns:\n",
    "    upper_threshold_totalRent = 10000\n",
    "    initial_outlier_count_totalRent = dataset[dataset['totalRent'] > upper_threshold_totalRent].shape[0]\n",
    "    dataset['totalRent'] = dataset['totalRent'].clip(upper=upper_threshold_totalRent)\n",
    "    print(\"Capped totalRent outliers above 10000€\")"
   ]
  },
  {
   "cell_type": "code",
   "execution_count": 14,
   "id": "f4fd4027-7349-441c-a994-1d6c34b28de1",
   "metadata": {
    "ExecuteTime": {
     "end_time": "2025-06-12T11:07:28.180857Z",
     "start_time": "2025-06-12T11:07:28.028010Z"
    }
   },
   "outputs": [
    {
     "data": {
      "text/plain": [
       "thermalChar             0.396154\n",
       "numberOfFloors          0.363519\n",
       "yearConstructedRange    0.212182\n",
       "yearConstructed         0.212182\n",
       "floor                   0.190846\n",
       "rent_per_sqm            0.150723\n",
       "livingSpaceRange        0.000000\n",
       "garden                  0.000000\n",
       "noRoomsRange            0.000000\n",
       "regio2                  0.000000\n",
       "regio3                  0.000000\n",
       "interiorQual            0.000000\n",
       "facilities              0.000000\n",
       "noRooms                 0.000000\n",
       "geo_plz                 0.000000\n",
       "typeOfFlat              0.000000\n",
       "date                    0.000000\n",
       "baseRentRange           0.000000\n",
       "lift                    0.000000\n",
       "streetPlain             0.000000\n",
       "street                  0.000000\n",
       "petsAllowed             0.000000\n",
       "regio1                  0.000000\n",
       "serviceCharge           0.000000\n",
       "totalRent               0.000000\n",
       "heatingType             0.000000\n",
       "telekomTvOffer          0.000000\n",
       "newlyConst              0.000000\n",
       "balcony                 0.000000\n",
       "picturecount            0.000000\n",
       "pricetrend              0.000000\n",
       "telekomUploadSpeed      0.000000\n",
       "scoutId                 0.000000\n",
       "geo_krs                 0.000000\n",
       "firingTypes             0.000000\n",
       "hasKitchen              0.000000\n",
       "geo_bln                 0.000000\n",
       "cellar                  0.000000\n",
       "baseRent                0.000000\n",
       "houseNumber             0.000000\n",
       "livingSpace             0.000000\n",
       "condition               0.000000\n",
       "dtype: float64"
      ]
     },
     "execution_count": 14,
     "metadata": {},
     "output_type": "execute_result"
    }
   ],
   "source": [
    "dataset.isnull().mean().sort_values(ascending=False) ##great, need to deal with thermalChar, numberOfFloors, rent_per_sqm"
   ]
  },
  {
   "cell_type": "code",
   "execution_count": 15,
   "id": "05fbe9f8-529c-41a4-9510-697fa055a856",
   "metadata": {
    "ExecuteTime": {
     "end_time": "2025-06-12T11:07:28.364820Z",
     "start_time": "2025-06-12T11:07:28.324595Z"
    }
   },
   "outputs": [],
   "source": [
    "#change yearConstructed to mean or median since its float and i cant do unknown, same with floor, numberOfFloors and thermalChar. though maybe we can take care of this nan\n",
    "dataset['floor'] = dataset['floor'].fillna(dataset['floor'].median())\n",
    "dataset['yearConstructed'] = dataset['yearConstructed'].fillna(dataset['yearConstructed'].median())\n",
    "dataset['yearConstructedRange'] = dataset['yearConstructedRange'].fillna(dataset['yearConstructedRange'].mode()[0])\n",
    "dataset['thermalChar'] = dataset['thermalChar'].fillna(dataset['thermalChar'].mode()[0])\n",
    "dataset['numberOfFloors'] = dataset['numberOfFloors'].fillna(dataset['numberOfFloors'].median())"
   ]
  },
  {
   "cell_type": "code",
   "execution_count": 17,
   "id": "cd637755-a4bb-40f8-b7bf-3e512df154f5",
   "metadata": {
    "ExecuteTime": {
     "end_time": "2025-06-12T11:07:28.683766Z",
     "start_time": "2025-06-12T11:07:28.513711Z"
    }
   },
   "outputs": [
    {
     "data": {
      "text/plain": [
       "rent_per_sqm            0.000279\n",
       "thermalChar             0.000000\n",
       "petsAllowed             0.000000\n",
       "street                  0.000000\n",
       "streetPlain             0.000000\n",
       "lift                    0.000000\n",
       "baseRentRange           0.000000\n",
       "typeOfFlat              0.000000\n",
       "geo_plz                 0.000000\n",
       "noRooms                 0.000000\n",
       "floor                   0.000000\n",
       "serviceCharge           0.000000\n",
       "numberOfFloors          0.000000\n",
       "noRoomsRange            0.000000\n",
       "garden                  0.000000\n",
       "livingSpaceRange        0.000000\n",
       "regio2                  0.000000\n",
       "regio3                  0.000000\n",
       "facilities              0.000000\n",
       "date                    0.000000\n",
       "interiorQual            0.000000\n",
       "regio1                  0.000000\n",
       "geo_krs                 0.000000\n",
       "livingSpace             0.000000\n",
       "heatingType             0.000000\n",
       "telekomTvOffer          0.000000\n",
       "newlyConst              0.000000\n",
       "balcony                 0.000000\n",
       "picturecount            0.000000\n",
       "pricetrend              0.000000\n",
       "telekomUploadSpeed      0.000000\n",
       "totalRent               0.000000\n",
       "yearConstructed         0.000000\n",
       "scoutId                 0.000000\n",
       "firingTypes             0.000000\n",
       "hasKitchen              0.000000\n",
       "geo_bln                 0.000000\n",
       "cellar                  0.000000\n",
       "yearConstructedRange    0.000000\n",
       "baseRent                0.000000\n",
       "houseNumber             0.000000\n",
       "condition               0.000000\n",
       "dtype: float64"
      ]
     },
     "execution_count": 17,
     "metadata": {},
     "output_type": "execute_result"
    }
   ],
   "source": [
    "dataset.isnull().mean().sort_values(ascending=False) "
   ]
  },
  {
   "cell_type": "code",
   "execution_count": 18,
   "id": "fa26b519-aa1b-4c6a-b7d9-186058c7b7aa",
   "metadata": {
    "ExecuteTime": {
     "end_time": "2025-06-12T11:07:29.646162Z",
     "start_time": "2025-06-12T11:07:28.710036Z"
    }
   },
   "outputs": [
    {
     "data": {
      "text/plain": [
       "count    268850.000000\n",
       "mean          2.099044\n",
       "std           3.270084\n",
       "min          -1.000000\n",
       "25%           1.000000\n",
       "50%           2.000000\n",
       "75%           3.000000\n",
       "max         999.000000\n",
       "Name: floor, dtype: float64"
      ]
     },
     "execution_count": 18,
     "metadata": {},
     "output_type": "execute_result"
    },
    {
     "data": {
      "image/png": "[encoded data removed]",
      "text/plain": [
       "<Figure size 640x480 with 1 Axes>"
      ]
     },
     "metadata": {},
     "output_type": "display_data"
    }
   ],
   "source": [
    "#time to evaluate the data and finish locating some outliers\n",
    "\n",
    "#step 1: look for distributions in numerical columns, look for outliers and make decisions based on domain knowledge, imply needed transformations\n",
    "#columns: serviceCharge, picturecount, pricetrend, telekomUploadSpeed, totalRent, yearConstructed, livingSpaceRange, rent_per_sqm\n",
    "#yearConstructedRange, baseRent, livingSpace, baseRentRange, noRooms, thermalChar, floor, numberOfFloors, noRoomsRange\n",
    "dataset['floor'].hist(bins=50)\n",
    "# serviceCharge - skewed to right, picturecount also possible, totalRent, \n",
    "#look into better hist representation of rent_per_sqm, yearConstructed cant be more than 2020 (is it planned construction?), livingSpace has some giant outliers\n",
    "# noRooms is number of rooms and it cant be 999.9, need to check that, same with floor and numberOfFloors  \n",
    "dataset['floor'].describe()\n",
    "\n",
    "#current progress - this step\n",
    "#also: check how typeOfFlat correlates wth living space, floor vs numberOfFloors, important for capping values"
   ]
  },
  {
   "cell_type": "code",
   "execution_count": 28,
   "id": "5bb619c3-3951-4069-8c72-624b7c692b63",
   "metadata": {
    "jupyter": {
     "is_executing": true
    }
   },
   "outputs": [
    {
     "data": {
      "text/plain": [
       "array([  1.,   2.,   3.,   4.,   0.,   6.,   5.,  10.,   8.,  16.,  -1.,\n",
       "         7.,   9.,  15.,  13.,  11.,  12.,  20., 100.,  14.,  17.,  22.,\n",
       "        32.,  83.,  19.,  21.,  18.,  99.,  23.,  26.,  25.,  37.,  24.,\n",
       "        29.,  31.,  45.,  41.,  80.,  36.,  98.])"
      ]
     },
     "execution_count": 28,
     "metadata": {},
     "output_type": "execute_result"
    }
   ],
   "source": [
    "dataset['floor'].unique()"
   ]
  },
  {
   "cell_type": "code",
   "execution_count": 20,
   "id": "1ee93a85-62dd-4331-9d94-2d66a6083738",
   "metadata": {},
   "outputs": [
    {
     "name": "stdout",
     "output_type": "stream",
     "text": [
      "Capped future yearConstructed values\n"
     ]
    }
   ],
   "source": [
    "if 'yearConstructed' in dataset.columns:\n",
    "    upper_threshold_year = 2025\n",
    "    initial_future_year_count = dataset[dataset['yearConstructed'] > upper_threshold_year].shape[0]\n",
    "    if initial_future_year_count > 0:\n",
    "        #Capping values greater than the threshold\n",
    "        dataset.loc[ dataset['yearConstructed'] > upper_threshold_year, 'yearConstructed'] = upper_threshold_year\n",
    "        print(\"Capped future yearConstructed values\")\n",
    "    else:\n",
    "        print(\"No yearConstructed values found > .\")\n",
    "\n",
    "#important - first have to consider the capping by types of flats, so that it makes the data better    "
   ]
  },
  {
   "cell_type": "code",
   "execution_count": 27,
   "id": "2abcd89b-fd3f-462d-8f46-d325441669a3",
   "metadata": {},
   "outputs": [
    {
     "name": "stdout",
     "output_type": "stream",
     "text": [
      "--- Starting Type-Specific Outlier Capping ---\n",
      "Applying type-specific capping for livingSpace...\n",
      "Applying type-specific capping for noRooms...\n",
      "Applying type-specific capping for floor...\n",
      "Applying type-specific capping for numberOfFloors...\n"
     ]
    }
   ],
   "source": [
    "print(\"--- Starting Type-Specific Outlier Capping ---\")\n",
    "#Caps created after analzying the data, in real world it would be best to go and consult the data catalog or an expert in the field/data provider\n",
    "living_space_caps = {\n",
    "    'ground_floor': 200,\n",
    "    'apartment': 300,\n",
    "    'other': 350,\n",
    "    'unknown': 350,\n",
    "    'roof_storey': 250,\n",
    "    'raised_ground_floor': 220,\n",
    "    'terraced_flat': 300,\n",
    "    'half_basement': 100,\n",
    "    'maisonette': 400,\n",
    "    'penthouse': 600,\n",
    "    'loft': 500\n",
    "}\n",
    "\n",
    "no_rooms_caps = {\n",
    "    'ground_floor': 6,\n",
    "    'apartment': 8,\n",
    "    'other': 8,\n",
    "    'unknown': 8,\n",
    "    'roof_storey': 6,\n",
    "    'raised_ground_floor': 6,\n",
    "    'terraced_flat': 7,\n",
    "    'half_basement': 3,\n",
    "    'maisonette': 10,\n",
    "    'penthouse': 12,\n",
    "    'loft': 10\n",
    "}\n",
    "\n",
    "floor_caps = {\n",
    "    'ground_floor': 2,\n",
    "    'apartment': 100,\n",
    "    'other': 100,\n",
    "    'unknown': 100,\n",
    "    'roof_storey': 100,\n",
    "    'raised_ground_floor': 3,\n",
    "    'terraced_flat': 5,\n",
    "    'half_basement': 0,\n",
    "    'maisonette': 150,\n",
    "    'penthouse': 150,\n",
    "    'loft': 100\n",
    "}\n",
    "\n",
    "number_of_floors_caps = {\n",
    "    'ground_floor': 150,\n",
    "    'apartment': 150,\n",
    "    'other': 150,\n",
    "    'unknown': 150,\n",
    "    'roof_storey': 150,\n",
    "    'raised_ground_floor': 150,\n",
    "    'terraced_flat': 10,\n",
    "    'half_basement': 150,\n",
    "    'maisonette': 150,\n",
    "    'penthouse': 150,\n",
    "    'loft': 150\n",
    "}\n",
    "\n",
    "def apply_type_specific_cap(row, column_name, caps_dict):\n",
    "    flat_type = row['typeOfFlat']\n",
    "    cap = caps_dict.get(flat_type, caps_dict.get('unknown', None))\n",
    "    if cap is None:\n",
    "        return row[column_name]\n",
    "    value = row[column_name]\n",
    "    return min(value, cap)\n",
    "\n",
    "if 'typeOfFlat' in dataset.columns:\n",
    "    if 'livingSpace' in dataset.columns:\n",
    "        print(\"Applying type-specific capping for livingSpace...\")\n",
    "        dataset['livingSpace'] = dataset.apply(\n",
    "            lambda row: apply_type_specific_cap(row, 'livingSpace', living_space_caps), axis=1)\n",
    "    else:\n",
    "        print(\"Warning: 'livingSpace' column not found for type-specific capping.\")\n",
    "\n",
    "    if 'noRooms' in dataset.columns:\n",
    "        print(\"Applying type-specific capping for noRooms...\")\n",
    "        dataset['noRooms'] = dataset.apply(\n",
    "            lambda row: apply_type_specific_cap(row, 'noRooms', no_rooms_caps), axis=1)\n",
    "    else:\n",
    "        print(\"Warning: 'noRooms' column not found for type-specific capping.\")\n",
    "\n",
    "    if 'floor' in dataset.columns:\n",
    "        print(\"Applying type-specific capping for floor...\")\n",
    "        dataset['floor'] = dataset.apply(\n",
    "            lambda row: apply_type_specific_cap(row, 'floor', floor_caps), axis=1)\n",
    "    else:\n",
    "        print(\"Warning: 'floor' column not found for type-specific capping.\")\n",
    "\n",
    "    if 'numberOfFloors' in dataset.columns:\n",
    "        print(\"Applying type-specific capping for numberOfFloors...\")\n",
    "        dataset['numberOfFloors'] = dataset.apply(\n",
    "            lambda row: apply_type_specific_cap(row, 'numberOfFloors', number_of_floors_caps), axis=1)\n",
    "    else:\n",
    "        print(\"Warning: 'numberOfFloors' column not found for type-specific capping.\")\n",
    "else:\n",
    "    print(\"Warning: 'typeOfFlat' column not found. Skipping type-specific capping.\")\n",
    "\n"
   ]
  },
  {
   "cell_type": "code",
   "execution_count": 29,
   "id": "f356f15d-2cd9-4464-bace-b6428c4b0de1",
   "metadata": {},
   "outputs": [],
   "source": [
    "#step 2: logical part: trust totalRent (no), scoutId null?, newlyConstruct vs YearConstruct, floor vs NumberOfFloors"
   ]
  },
  {
   "cell_type": "code",
   "execution_count": 31,
   "id": "e929b89b-7d5d-42a5-8c00-dae60ce7350d",
   "metadata": {},
   "outputs": [
    {
     "name": "stdout",
     "output_type": "stream",
     "text": [
      "--- Checking newlyConst vs. yearConstructed Consistency  ---\n",
      "No inconsistencies found between newlyConst and yearConstructed based on threshold.\n"
     ]
    }
   ],
   "source": [
    "#checking newlyConstruct vs the construction year\n",
    "print(\"--- Checking newlyConst vs. yearConstructed Consistency  ---\")\n",
    "\n",
    "if 'newlyConst' in dataset.columns and 'yearConstructed' in dataset.columns:\n",
    "    #In this case our threshold will be 10 years\n",
    "    recent_year_threshold = pd.to_datetime('now').year - 10\n",
    "\n",
    "    #Identifying inconsistent rows\n",
    "    inconsistent_newly_const_filter = (\n",
    "         (dataset['newlyConst'] == True) &\n",
    "         (dataset['yearConstructed'] < recent_year_threshold)\n",
    "     )\n",
    "     \n",
    "    initial_inconsistent_count = dataset[inconsistent_newly_const_filter].shape[0]\n",
    "     \n",
    "    if initial_inconsistent_count > 0:\n",
    "        #Creating a flag column\n",
    "        dataset['is_newlyConst_inconsistency'] = inconsistent_newly_const_filter\n",
    "        print(\"Flagged {initial_inconsistent_count} inconsistencies between newlyConst and yearConstructed.\")\n",
    "    else:\n",
    "        print(\"No inconsistencies found between newlyConst and yearConstructed based on threshold.\")\n",
    "else:\n",
    "    print(\"Warning: newlyConst or yearConstructed column(s) not found for consistency check.\")\n"
   ]
  },
  {
   "cell_type": "code",
   "execution_count": 32,
   "id": "3b1405fa-ee03-40e9-993c-778b8582d07a",
   "metadata": {},
   "outputs": [
    {
     "name": "stdout",
     "output_type": "stream",
     "text": [
      "\n",
      "--- Checking floor vs. numberOfFloors Consistency ---\n",
      "  Flagged 1371 rows with unrealistic numberOfFloors (< 1).\n",
      "Flagged {inconsistent_count} inconsistencies where floor > numberOfFloors.\n"
     ]
    }
   ],
   "source": [
    "#floor vs NumberOfFloors\n",
    "print(\"\\n--- Checking floor vs. numberOfFloors Consistency ---\")\n",
    "\n",
    "if 'floor' in dataset.columns and 'numberOfFloors' in dataset.columns:\n",
    "    #Flagging unrealistic numberOfFloors values (< 1)\n",
    "    dataset['invalidNumberOfFloors'] = dataset['numberOfFloors'] < 1\n",
    "    flagged_count = dataset['invalidNumberOfFloors'].sum()\n",
    "\n",
    "    if flagged_count > 0:\n",
    "        print(f\"  Flagged {flagged_count} rows with unrealistic numberOfFloors (< 1).\")\n",
    "    else:\n",
    "        print(\"No unrealistic numberOfFloors values found.\")\n",
    "\n",
    "    #Checking if floor is greater than numberOfFloors\n",
    "    inconsistent_floor_filter = dataset['floor'] > dataset['numberOfFloors']\n",
    "    inconsistent_count = inconsistent_floor_filter.sum()\n",
    "\n",
    "    if inconsistent_count > 0:\n",
    "        dataset['is_floor_inconsistent'] = inconsistent_floor_filter\n",
    "        print(\"Flagged {inconsistent_count} inconsistencies where floor > numberOfFloors.\")\n",
    "    else:\n",
    "        print(\"No inconsistencies found where floor > numberOfFloors.\")\n",
    "else:\n",
    "    print(\"Warning: 'floor' or 'numberOfFloors' column(s) not found for consistency check.\")"
   ]
  },
  {
   "cell_type": "code",
   "execution_count": 34,
   "id": "0f68703b-e8d8-49b7-8d2f-7765085b15c3",
   "metadata": {},
   "outputs": [
    {
     "name": "stdout",
     "output_type": "stream",
     "text": [
      "--- Checking and Removing Duplicate Rows by scoutId ---\n",
      "No duplicate rows found based on 'scoutId'.\n"
     ]
    }
   ],
   "source": [
    "#scoutId check\n",
    "print(\"--- Checking and Removing Duplicate Rows by scoutId ---\")\n",
    "if 'scoutId' in dataset.columns:\n",
    "    initial_row_count = dataset.shape[0]\n",
    "    #Checking for duplicates based on 'scoutId'\n",
    "    duplicate_count = dataset.duplicated(subset=['scoutId']).sum()\n",
    "    if duplicate_count > 0:\n",
    "        #Removing duplicate rows, keeping the first occurrence\n",
    "        dataset.drop_duplicates(subset=['scoutId'], keep='first', inplace=True)\n",
    "        rows_removed = initial_row_count - dataset.shape[0]\n",
    "        print(\"Removed {rows_removed} duplicate rows based on 'scoutId'.\")\n",
    "    else :\n",
    "        print(\"No duplicate rows found based on 'scoutId'.\")\n",
    "elif 'scoutId' not in dataset.columns:\n",
    "    print(\"Warning: 'scoutId' column not found for duplicate check.\")"
   ]
  },
  {
   "cell_type": "code",
   "execution_count": 46,
   "id": "30a0bcad-88cf-49b4-ab2a-174ade582cf6",
   "metadata": {},
   "outputs": [
    {
     "name": "stdout",
     "output_type": "stream",
     "text": [
      "---Cleaning totalRent and Calculating/Cleaning rent_per_sqm ---\n",
      "Capped 31 totalRent outliers above €10000 at €10000.\n",
      "Updated totalRent for 31 rows due to inconsistency with baseRent + serviceCharge.\n",
      "Flagged rows where totalRent was adjusted for consistency.\n",
      "--- Calculating rent_per_sqm ---\n",
      "Warning: 75 rows have livingSpace = 0. Will result in NaN for rent_per_sqm.\n",
      "Replacing infinite values with NaN first, we will deal with them in a moment.\n",
      "  75 NaN values found in rent_per_sqm after calculation and Inf handling.\n",
      "Renaming NaN in rent_per_sqm to 'unknown'...\n",
      "NaN values in rent_per_sqm renamed to 'unknown'.\n",
      "\n",
      "--- totalRent and rent_per_sqm Cleaning Complete ---\n"
     ]
    }
   ],
   "source": [
    "#Cleaning totalRent and Calculating/Cleaning rent_per_sqm\n",
    "print(\"---Cleaning totalRent and Calculating/Cleaning rent_per_sqm ---\")\n",
    "#Issue: totalRent outliers > €10,000. Decision: Cap at €10,000.\n",
    "if 'totalRent' in dataset.columns:\n",
    "    upper_threshold_totalRent = 10000\n",
    "    initial_outlier_count_totalRent = dataset[dataset['totalRent'] > upper_threshold_totalRent].shape[0]\n",
    "\n",
    "    if initial_outlier_count_totalRent > 0:\n",
    "        #Correcting variable name: upper_threshold_totalRent instead of upper_thresholdtotalRent\n",
    "        dataset.loc[dataset['totalRent'] > upper_threshold_totalRent, 'totalRent'] = upper_threshold_totalRent\n",
    "        print(f\"Capped {initial_outlier_count_totalRent} totalRent outliers above €{upper_threshold_totalRent} at €{upper_threshold_totalRent}.\")\n",
    "else: \n",
    "     print(\"Warning: 'totalRent' column not found for outlier capping.\")\n",
    "\n",
    "\n",
    "#Addressing Logical Consistency between totalRent and baseRent + serviceCharge\n",
    "#Decision: If totalRent is significantly different from the sum, use the sum.\n",
    "if 'totalRent' in dataset.columns and 'baseRent' in dataset.columns and 'serviceCharge' in dataset.columns:\n",
    "    #Calculating the sum of components\n",
    "    calculated_total_rent = dataset['baseRent'] + dataset['serviceCharge']\n",
    "    tolerance = 0.01\n",
    "    inconsistent_rent_filter = (abs(dataset['totalRent'] - calculated_total_rent) > tolerance)\n",
    "    initial_inconsistent_count = inconsistent_rent_filter.sum()\n",
    "    if initial_inconsistent_count > 0:\n",
    "        #Prioritizing calculated_total_rent for inconsistent rows\n",
    "        dataset.loc[inconsistent_rent_filter, 'totalRent'] = calculated_total_rent[inconsistent_rent_filter]\n",
    "        print(f\"Updated totalRent for {initial_inconsistent_count} rows due to inconsistency with baseRent + serviceCharge.\")\n",
    "        #Creating a flag to know which rows were adjusted\n",
    "        dataset['was_totalRent_adjusted'] = inconsistent_rent_filter\n",
    "        print(\"Flagged rows where totalRent was adjusted for consistency.\")\n",
    "\n",
    "    else:\n",
    "        print(\"No significant inconsistencies found between totalRent and baseRent + serviceCharge to adjust.\")\n",
    "\n",
    "elif 'totalRent' not in dataset.columns or 'baseRent' not in dataset.columns or 'serviceCharge' not in dataset.columns:\n",
    "     print(\"Warning: totalRent, baseRent, or serviceCharge column(s) not found for checking and adjusting.\")\n",
    "\n",
    "\n",
    "#Calculating rent_per_sqm\n",
    "print(\"--- Calculating rent_per_sqm ---\")\n",
    "if 'totalRent' in dataset.columns and 'livingSpace' in dataset.columns:\n",
    "    #Checking for zero livingSpace *before* division\n",
    "    zero_living_space_filter = dataset['livingSpace'].eq(0)\n",
    "    zero_living_space_count = zero_living_space_filter.sum()\n",
    "\n",
    "    if zero_living_space_count > 0:\n",
    "         print(f\"Warning: {zero_living_space_count} rows have livingSpace = 0. Will result in NaN for rent_per_sqm.\")\n",
    "\n",
    "    #Performing the division. Division by 0 in livingSpace will result in Inf.\n",
    "    #Division by NaN in totalRent or livingSpace will result in NaN.\n",
    "    dataset['rent_per_sqm'] = dataset['totalRent'] / dataset['livingSpace']\n",
    "    #Handling Infinities resulting from division by zero livingSpace ---\n",
    "    #Replacing infinite values (from division by zero) with NaN first, so fillna can handle them\n",
    "    dataset['rent_per_sqm'] = dataset['rent_per_sqm'].replace([np.inf, - np.inf], np.nan)\n",
    "    print(\"Replacing infinite values with NaN first, we will deal with them in a moment.\")\n",
    "    #Handling NaNs that result from the rent_per_sqm calculation\n",
    "    new_nan_rent_per_sqm_filter = dataset['rent_per_sqm'].isna()\n",
    "    new_nan_rent_per_sqm_count = new_nan_rent_per_sqm_filter.sum()\n",
    "\n",
    "    if new_nan_rent_per_sqm_count > 0:\n",
    "        print(f\"  {new_nan_rent_per_sqm_count} NaN values found in rent_per_sqm after calculation and Inf handling.\")\n",
    "        #How to handle NaNs in rent_per_sqm\n",
    "        #Renaming NaN to 'unknown'\n",
    "        print(\"Renaming NaN in rent_per_sqm to 'unknown'...\")\n",
    "        dataset['rent_per_sqm'] = dataset['rent_per_sqm'].fillna('unknown')\n",
    "        print(\"NaN values in rent_per_sqm renamed to 'unknown'.\")\n",
    "    else:\n",
    "         print(\"No NaN values found in rent_per_sqm after calculation and Inf handling.\")\n",
    "\n",
    "else:\n",
    "     print(\"Warning: totalRent or livingSpace column(s) not found for rent_per_sqm calculation.\")\n",
    "\n",
    "print(\"\\n--- totalRent and rent_per_sqm Cleaning Complete ---\")"
   ]
  },
  {
   "cell_type": "code",
   "execution_count": 22,
   "id": "c0617464-b02d-4e7d-81eb-8d7cb03aebb5",
   "metadata": {},
   "outputs": [],
   "source": [
    "#step 3: standardzing - to be done next"
   ]
  }
 ],
 "metadata": {
  "kernelspec": {
   "display_name": "Python 3 (ipykernel)",
   "language": "python",
   "name": "python3"
  },
  "language_info": {
   "codemirror_mode": {
    "name": "ipython",
    "version": 3
   },
   "file_extension": ".py",
   "mimetype": "text/x-python",
   "name": "python",
   "nbconvert_exporter": "python",
   "pygments_lexer": "ipython3",
   "version": "3.12.5"
  }
 },
 "nbformat": 4,
 "nbformat_minor": 5
}
