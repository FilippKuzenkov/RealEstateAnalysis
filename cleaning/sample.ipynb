{
 "cells": [
  {
   "cell_type": "markdown",
   "id": "8a77807f92f26ee",
   "metadata": {},
   "source": [
    "# This is a sample Jupyter Notebook\n",
    "\n",
    "Below is an example of a code cell. \n",
    "Put your cursor into the cell and press Shift+Enter to execute it and select the next one, or click 'Run Cell' button.\n",
    "\n",
    "Press Double Shift to search everywhere for classes, files, tool windows, actions, and settings.\n",
    "\n",
    "To learn more about Jupyter Notebooks in PyCharm, see [help](https://www.jetbrains.com/help/pycharm/ipython-notebook-support.html).\n",
    "For an overview of PyCharm, go to Help -> Learn IDE features or refer to [our documentation](https://www.jetbrains.com/help/pycharm/getting-started.html)."
   ]
  },
  {
   "cell_type": "code",
   "execution_count": 3,
   "id": "fbc121e30a2defb3",
   "metadata": {
    "ExecuteTime": {
     "end_time": "2025-05-30T09:04:40.186020Z",
     "start_time": "2025-05-30T09:04:33.959564Z"
    }
   },
   "outputs": [
    {
     "name": "stdout",
     "output_type": "stream",
     "text": [
      "<class 'pandas.core.frame.DataFrame'>\n",
      "RangeIndex: 268850 entries, 0 to 268849\n",
      "Data columns (total 49 columns):\n",
      " #   Column                    Non-Null Count   Dtype  \n",
      "---  ------                    --------------   -----  \n",
      " 0   regio1                    268850 non-null  object \n",
      " 1   serviceCharge             261941 non-null  float64\n",
      " 2   heatingType               223994 non-null  object \n",
      " 3   telekomTvOffer            236231 non-null  object \n",
      " 4   telekomHybridUploadSpeed  45020 non-null   float64\n",
      " 5   newlyConst                268850 non-null  bool   \n",
      " 6   balcony                   268850 non-null  bool   \n",
      " 7   picturecount              268850 non-null  int64  \n",
      " 8   pricetrend                267018 non-null  float64\n",
      " 9   telekomUploadSpeed        235492 non-null  float64\n",
      " 10  totalRent                 228333 non-null  float64\n",
      " 11  yearConstructed           211805 non-null  float64\n",
      " 12  scoutId                   268850 non-null  int64  \n",
      " 13  noParkSpaces              93052 non-null   float64\n",
      " 14  firingTypes               211886 non-null  object \n",
      " 15  hasKitchen                268850 non-null  bool   \n",
      " 16  geo_bln                   268850 non-null  object \n",
      " 17  cellar                    268850 non-null  bool   \n",
      " 18  yearConstructedRange      211805 non-null  float64\n",
      " 19  baseRent                  268850 non-null  float64\n",
      " 20  houseNumber               197832 non-null  object \n",
      " 21  livingSpace               268850 non-null  float64\n",
      " 22  geo_krs                   268850 non-null  object \n",
      " 23  condition                 200361 non-null  object \n",
      " 24  interiorQual              156185 non-null  object \n",
      " 25  petsAllowed               154277 non-null  object \n",
      " 26  street                    268850 non-null  object \n",
      " 27  streetPlain               197837 non-null  object \n",
      " 28  lift                      268850 non-null  bool   \n",
      " 29  baseRentRange             268850 non-null  int64  \n",
      " 30  typeOfFlat                232236 non-null  object \n",
      " 31  geo_plz                   268850 non-null  int64  \n",
      " 32  noRooms                   268850 non-null  float64\n",
      " 33  thermalChar               162344 non-null  float64\n",
      " 34  floor                     217541 non-null  float64\n",
      " 35  numberOfFloors            171118 non-null  float64\n",
      " 36  noRoomsRange              268850 non-null  int64  \n",
      " 37  garden                    268850 non-null  bool   \n",
      " 38  livingSpaceRange          268850 non-null  int64  \n",
      " 39  regio2                    268850 non-null  object \n",
      " 40  regio3                    268850 non-null  object \n",
      " 41  description               249103 non-null  object \n",
      " 42  facilities                215926 non-null  object \n",
      " 43  heatingCosts              85518 non-null   float64\n",
      " 44  energyEfficiencyClass     77787 non-null   object \n",
      " 45  lastRefurbish             80711 non-null   float64\n",
      " 46  electricityBasePrice      46846 non-null   float64\n",
      " 47  electricityKwhPrice       46846 non-null   float64\n",
      " 48  date                      268850 non-null  object \n",
      "dtypes: bool(6), float64(18), int64(6), object(19)\n",
      "memory usage: 89.7+ MB\n"
     ]
    }
   ],
   "source": [
    "import pandas as pd\n",
    "dataset = pd.read_csv(\"data.csv\");\n",
    "dataset.info(\"data.csv\");\n"
   ]
  },
  {
   "cell_type": "code",
   "execution_count": 8,
   "id": "301f7559-a375-4f97-af3c-615851daf976",
   "metadata": {},
   "outputs": [
    {
     "data": {
      "text/plain": [
       "regio1                       0.000000\n",
       "serviceCharge                2.569834\n",
       "heatingType                 16.684397\n",
       "telekomTvOffer              12.132788\n",
       "telekomHybridUploadSpeed    83.254603\n",
       "newlyConst                   0.000000\n",
       "balcony                      0.000000\n",
       "picturecount                 0.000000\n",
       "pricetrend                   0.681421\n",
       "telekomUploadSpeed          12.407662\n",
       "totalRent                   15.070485\n",
       "yearConstructed             21.218151\n",
       "scoutId                      0.000000\n",
       "noParkSpaces                65.388879\n",
       "firingTypes                 21.188023\n",
       "hasKitchen                   0.000000\n",
       "geo_bln                      0.000000\n",
       "cellar                       0.000000\n",
       "yearConstructedRange        21.218151\n",
       "baseRent                     0.000000\n",
       "houseNumber                 26.415473\n",
       "livingSpace                  0.000000\n",
       "geo_krs                      0.000000\n",
       "condition                   25.474800\n",
       "interiorQual                41.906267\n",
       "petsAllowed                 42.615957\n",
       "street                       0.000000\n",
       "streetPlain                 26.413614\n",
       "lift                         0.000000\n",
       "baseRentRange                0.000000\n",
       "typeOfFlat                  13.618747\n",
       "geo_plz                      0.000000\n",
       "noRooms                      0.000000\n",
       "thermalChar                 39.615399\n",
       "floor                       19.084620\n",
       "numberOfFloors              36.351869\n",
       "noRoomsRange                 0.000000\n",
       "garden                       0.000000\n",
       "livingSpaceRange             0.000000\n",
       "regio2                       0.000000\n",
       "regio3                       0.000000\n",
       "description                  7.344988\n",
       "facilities                  19.685326\n",
       "heatingCosts                68.191185\n",
       "energyEfficiencyClass       71.066766\n",
       "lastRefurbish               69.979171\n",
       "electricityBasePrice        82.575414\n",
       "electricityKwhPrice         82.575414\n",
       "date                         0.000000\n",
       "dtype: float64"
      ]
     },
     "execution_count": 8,
     "metadata": {},
     "output_type": "execute_result"
    }
   ],
   "source": [
    "(dataset.isnull().sum() / len(dataset)) * 100 # shows percentage amount of missing values\n",
    "# logic: less than 5% missing - impute or drop, 5 to 30% missing - impute with domain logic, using unknown placeholder, drop if only low-level value column\n",
    "# 30-60% - drop or create flags, more than 60% - drop for sure"
   ]
  },
  {
   "cell_type": "code",
   "execution_count": null,
   "id": "a706ee18-7074-4ddf-a47b-1e2fd7699646",
   "metadata": {},
   "outputs": [],
   "source": [
    "#therefore drop electricityKwhPrice, electricityBasePrice, lastRefurbish, energyEfficiencyClass, heatingCosts, noParkSpaces, telekomHybridUploadSpeed"
   ]
  }
 ],
 "metadata": {
  "kernelspec": {
   "display_name": "Python 3 (ipykernel)",
   "language": "python",
   "name": "python3"
  },
  "language_info": {
   "codemirror_mode": {
    "name": "ipython",
    "version": 3
   },
   "file_extension": ".py",
   "mimetype": "text/x-python",
   "name": "python",
   "nbconvert_exporter": "python",
   "pygments_lexer": "ipython3",
   "version": "3.12.9"
  }
 },
 "nbformat": 4,
 "nbformat_minor": 5
}
